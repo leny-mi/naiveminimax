{
 "cells": [
  {
   "cell_type": "code",
   "execution_count": 1,
   "metadata": {},
   "outputs": [],
   "source": [
    "import numpy as np\n",
    "import random"
   ]
  },
  {
   "cell_type": "code",
   "execution_count": 2,
   "metadata": {},
   "outputs": [],
   "source": [
    "field = np.zeros((3,3))"
   ]
  },
  {
   "cell_type": "code",
   "execution_count": 3,
   "metadata": {},
   "outputs": [],
   "source": [
    "def check_win(field):\n",
    "    for i in range(3):\n",
    "        if min(field[:,i]) == max(field[:,i]) != 0:\n",
    "            return field[i,i]\n",
    "        if min(field[i,:]) == max(field[i,:]) != 0:\n",
    "            return field[i,i]\n",
    "    if min(np.diagonal(field)) == max(np.diagonal(field)) != 0:\n",
    "        return field[1,1]\n",
    "    if min(np.diagonal(field[::-1])) == max(np.diagonal(field[::-1])) != 0:\n",
    "        return field[1,1]\n",
    "    \n",
    "    return 0"
   ]
  },
  {
   "cell_type": "code",
   "execution_count": 4,
   "metadata": {},
   "outputs": [],
   "source": [
    "def check_end(field):\n",
    "    for x in range(3):\n",
    "        for y in range(3):\n",
    "            if field[x,y] == 0:\n",
    "                return False\n",
    "    return True"
   ]
  },
  {
   "cell_type": "code",
   "execution_count": 5,
   "metadata": {},
   "outputs": [],
   "source": [
    "def render_table(field):\n",
    "    print('-------------')\n",
    "    for line in field:\n",
    "        print('| {} | {} | {} |'.format(*map({1:'O',0:'-',-1:'X'}.__getitem__, line)))\n",
    "        print('-------------')"
   ]
  },
  {
   "cell_type": "code",
   "execution_count": 6,
   "metadata": {},
   "outputs": [],
   "source": [
    "def compute(field, maximize):\n",
    "    if check_win(field) != 0:\n",
    "        return check_win(field)\n",
    "    \n",
    "    if check_end(field):\n",
    "        return 0\n",
    "    \n",
    "    goal_function = max if maximize else min\n",
    "    current_player = 1 if maximize else -1\n",
    "    \n",
    "    scores = []\n",
    "    for x in range(3):\n",
    "        for y in range(3):\n",
    "            if field[x,y] != 0:\n",
    "                continue\n",
    "            copy_field = field.copy()\n",
    "            copy_field[x,y] = current_player\n",
    "            \n",
    "            scores.append(compute(copy_field, not maximize))\n",
    "\n",
    "    return goal_function(scores)                   "
   ]
  },
  {
   "cell_type": "code",
   "execution_count": 7,
   "metadata": {},
   "outputs": [],
   "source": [
    "def next_move(field, player):\n",
    "    if check_win(field) != 0:\n",
    "        print(check_win(field), 'won the game.')\n",
    "        return None\n",
    "        \n",
    "    if check_end(field):\n",
    "        print('No winner.')\n",
    "        return None\n",
    "        \n",
    "    \n",
    "    goal_function = max if player==1 else min\n",
    "        \n",
    "    max_val = -2*player\n",
    "    \n",
    "    max_cord = (None, None)\n",
    "    \n",
    "    for x in range(3):\n",
    "        for y in range(3):\n",
    "            if field[x,y] != 0:\n",
    "                continue\n",
    "            copy_field = field.copy()\n",
    "            copy_field[x,y] = player\n",
    "            result = compute(copy_field, player!=1)\n",
    "            \n",
    "            if goal_function(result, max_val) == result != max_val:\n",
    "                max_val = result\n",
    "                max_cord = (x,y)\n",
    "          \n",
    "    field[max_cord] = player\n",
    "    render_table(field)\n",
    "    \n",
    "    if check_win(field) != 0:\n",
    "        print({1:'O',-1:'X'}[check_win(field)], 'won the game.')\n",
    "        return None\n",
    "        \n",
    "    if check_end(field):\n",
    "        print('No winner.')\n",
    "        return None"
   ]
  },
  {
   "cell_type": "code",
   "execution_count": 8,
   "metadata": {},
   "outputs": [],
   "source": [
    "def reset():\n",
    "    for x in range(3):\n",
    "        for y in range(3):\n",
    "            field[x,y] = 0"
   ]
  },
  {
   "cell_type": "code",
   "execution_count": 9,
   "metadata": {},
   "outputs": [],
   "source": [
    "def move(x, y):\n",
    "    field[x,y] = 1\n",
    "    render_table(field)\n",
    "    next_move(field, -1)"
   ]
  },
  {
   "cell_type": "code",
   "execution_count": 10,
   "metadata": {},
   "outputs": [],
   "source": [
    "def tictactoe():\n",
    "    reset()\n",
    "    if random.random() < .5:\n",
    "        next_move(field, -1)\n",
    "    while check_win(field) == 0 and not check_end(field):\n",
    "        x,y = map(int, input('Enter next coordiantes').split(','))\n",
    "        if x>2 or x<0 or y>2 or y<0 or field[x,y] != 0:\n",
    "            print('Incorrect field.')\n",
    "            continue\n",
    "        move(x,y)"
   ]
  },
  {
   "cell_type": "code",
   "execution_count": null,
   "metadata": {},
   "outputs": [],
   "source": [
    "tictactoe()"
   ]
  },
  {
   "cell_type": "code",
   "execution_count": null,
   "metadata": {},
   "outputs": [],
   "source": []
  }
 ],
 "metadata": {
  "kernelspec": {
   "display_name": "Python 3",
   "language": "python",
   "name": "python3"
  },
  "language_info": {
   "codemirror_mode": {
    "name": "ipython",
    "version": 3
   },
   "file_extension": ".py",
   "mimetype": "text/x-python",
   "name": "python",
   "nbconvert_exporter": "python",
   "pygments_lexer": "ipython3",
   "version": "3.7.6"
  }
 },
 "nbformat": 4,
 "nbformat_minor": 4
}
